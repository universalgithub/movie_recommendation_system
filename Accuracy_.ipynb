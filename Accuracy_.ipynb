{
  "nbformat": 4,
  "nbformat_minor": 0,
  "metadata": {
    "colab": {
      "provenance": [],
      "authorship_tag": "ABX9TyPgAdbXp2EzvH3YchJbl0UX",
      "include_colab_link": true
    },
    "kernelspec": {
      "name": "python3",
      "display_name": "Python 3"
    },
    "language_info": {
      "name": "python"
    }
  },
  "cells": [
    {
      "cell_type": "markdown",
      "metadata": {
        "id": "view-in-github",
        "colab_type": "text"
      },
      "source": [
        "<a href=\"https://colab.research.google.com/github/abiralchy0987/movie_recommendation_system/blob/main/Accuracy_.ipynb\" target=\"_parent\"><img src=\"https://colab.research.google.com/assets/colab-badge.svg\" alt=\"Open In Colab\"/></a>"
      ]
    },
    {
      "cell_type": "code",
      "source": [
        "# Mean Absolute Error (MAE) and Root Mean Squared Error (RMSE)\n",
        "from surprise import accuracy\n",
        "\n",
        "# Assuming you have already trained your SVD model and have predictions\n",
        "predictions = svd.test(testset)\n",
        "\n",
        "# Calculate MAE and RMSE\n",
        "mae = accuracy.mae(predictions)\n",
        "rmse = accuracy.rmse(predictions)\n",
        "\n",
        "print(f'MAE: {mae}')\n",
        "print(f'RMSE: {rmse}')"
      ],
      "metadata": {
        "colab": {
          "base_uri": "https://localhost:8080/",
          "height": 383
        },
        "id": "611CRMkq9908",
        "outputId": "0fd8bf29-bd16-4758-fd96-fb6f9b209590"
      },
      "execution_count": 8,
      "outputs": [
        {
          "output_type": "error",
          "ename": "ModuleNotFoundError",
          "evalue": "No module named 'surprise'",
          "traceback": [
            "\u001b[0;31m---------------------------------------------------------------------------\u001b[0m",
            "\u001b[0;31mModuleNotFoundError\u001b[0m                       Traceback (most recent call last)",
            "\u001b[0;32m<ipython-input-8-e532aef1c120>\u001b[0m in \u001b[0;36m<cell line: 0>\u001b[0;34m()\u001b[0m\n\u001b[1;32m      1\u001b[0m \u001b[0;31m# Mean Absolute Error (MAE) and Root Mean Squared Error (RMSE)\u001b[0m\u001b[0;34m\u001b[0m\u001b[0;34m\u001b[0m\u001b[0m\n\u001b[0;32m----> 2\u001b[0;31m \u001b[0;32mfrom\u001b[0m \u001b[0msurprise\u001b[0m \u001b[0;32mimport\u001b[0m \u001b[0maccuracy\u001b[0m\u001b[0;34m\u001b[0m\u001b[0;34m\u001b[0m\u001b[0m\n\u001b[0m\u001b[1;32m      3\u001b[0m \u001b[0;34m\u001b[0m\u001b[0m\n\u001b[1;32m      4\u001b[0m \u001b[0;31m# Assuming you have already trained your SVD model and have predictions\u001b[0m\u001b[0;34m\u001b[0m\u001b[0;34m\u001b[0m\u001b[0m\n\u001b[1;32m      5\u001b[0m \u001b[0mpredictions\u001b[0m \u001b[0;34m=\u001b[0m \u001b[0msvd\u001b[0m\u001b[0;34m.\u001b[0m\u001b[0mtest\u001b[0m\u001b[0;34m(\u001b[0m\u001b[0mtestset\u001b[0m\u001b[0;34m)\u001b[0m\u001b[0;34m\u001b[0m\u001b[0;34m\u001b[0m\u001b[0m\n",
            "\u001b[0;31mModuleNotFoundError\u001b[0m: No module named 'surprise'",
            "",
            "\u001b[0;31m---------------------------------------------------------------------------\u001b[0;32m\nNOTE: If your import is failing due to a missing package, you can\nmanually install dependencies using either !pip or !apt.\n\nTo view examples of installing some common dependencies, click the\n\"Open Examples\" button below.\n\u001b[0;31m---------------------------------------------------------------------------\u001b[0m\n"
          ],
          "errorDetails": {
            "actions": [
              {
                "action": "open_url",
                "actionText": "Open Examples",
                "url": "/notebooks/snippets/importing_libraries.ipynb"
              }
            ]
          }
        }
      ]
    },
    {
      "cell_type": "code",
      "source": [
        "# Precision, Recall, and F1-Score\n",
        "\n",
        "from surprise import accuracy\n",
        "\n",
        "# Assuming you have already trained your SVD model and have predictions\n",
        "predictions = svd.test(testset)\n",
        "\n",
        "# Calculate MAE and RMSE\n",
        "mae = accuracy.mae(predictions)\n",
        "rmse = accuracy.rmse(predictions)\n",
        "\n",
        "print(f'MAE: {mae}')\n",
        "print(f'RMSE: {rmse}')"
      ],
      "metadata": {
        "id": "W4DhmPN1-WI2",
        "colab": {
          "base_uri": "https://localhost:8080/",
          "height": 383
        },
        "outputId": "410cef83-3e6e-4e1b-93ec-34e4085befeb"
      },
      "execution_count": 9,
      "outputs": [
        {
          "output_type": "error",
          "ename": "ModuleNotFoundError",
          "evalue": "No module named 'surprise'",
          "traceback": [
            "\u001b[0;31m---------------------------------------------------------------------------\u001b[0m",
            "\u001b[0;31mModuleNotFoundError\u001b[0m                       Traceback (most recent call last)",
            "\u001b[0;32m<ipython-input-9-42a287bae471>\u001b[0m in \u001b[0;36m<cell line: 0>\u001b[0;34m()\u001b[0m\n\u001b[1;32m      1\u001b[0m \u001b[0;31m# Precision, Recall, and F1-Score\u001b[0m\u001b[0;34m\u001b[0m\u001b[0;34m\u001b[0m\u001b[0m\n\u001b[1;32m      2\u001b[0m \u001b[0;34m\u001b[0m\u001b[0m\n\u001b[0;32m----> 3\u001b[0;31m \u001b[0;32mfrom\u001b[0m \u001b[0msurprise\u001b[0m \u001b[0;32mimport\u001b[0m \u001b[0maccuracy\u001b[0m\u001b[0;34m\u001b[0m\u001b[0;34m\u001b[0m\u001b[0m\n\u001b[0m\u001b[1;32m      4\u001b[0m \u001b[0;34m\u001b[0m\u001b[0m\n\u001b[1;32m      5\u001b[0m \u001b[0;31m# Assuming you have already trained your SVD model and have predictions\u001b[0m\u001b[0;34m\u001b[0m\u001b[0;34m\u001b[0m\u001b[0m\n",
            "\u001b[0;31mModuleNotFoundError\u001b[0m: No module named 'surprise'",
            "",
            "\u001b[0;31m---------------------------------------------------------------------------\u001b[0;32m\nNOTE: If your import is failing due to a missing package, you can\nmanually install dependencies using either !pip or !apt.\n\nTo view examples of installing some common dependencies, click the\n\"Open Examples\" button below.\n\u001b[0;31m---------------------------------------------------------------------------\u001b[0m\n"
          ],
          "errorDetails": {
            "actions": [
              {
                "action": "open_url",
                "actionText": "Open Examples",
                "url": "/notebooks/snippets/importing_libraries.ipynb"
              }
            ]
          }
        }
      ]
    },
    {
      "cell_type": "code",
      "source": [
        "# Hit Rate(cf and cbf)\n",
        "\n",
        "def hit_rate(recommended_items, relevant_items):\n",
        "    hits = 0\n",
        "    for user in relevant_items:\n",
        "        if any(item in recommended_items[user] for item in relevant_items[user]):\n",
        "            hits += 1\n",
        "    return hits / len(relevant_items)\n",
        "\n",
        "# Example usage\n",
        "recommended_items = {1: [101, 102, 103], 2: [104, 105, 106]}  # User ID: [Recommended Items]\n",
        "relevant_items = {1: [101, 107], 2: [104, 108]}  # User ID: [Relevant Items]\n",
        "\n",
        "hit_rate_value = hit_rate(recommended_items, relevant_items)\n",
        "print(f'Hit Rate: {hit_rate_value}')"
      ],
      "metadata": {
        "id": "qaUe4HTl-a9H"
      },
      "execution_count": null,
      "outputs": []
    },
    {
      "cell_type": "code",
      "source": [
        "# Mean Reciprocal Rank (MRR)\n",
        "\n",
        "def mean_reciprocal_rank(recommended_items, relevant_items):\n",
        "    reciprocal_ranks = []\n",
        "    for user in relevant_items:\n",
        "        for rank, item in enumerate(recommended_items[user], 1):\n",
        "            if item in relevant_items[user]:\n",
        "                reciprocal_ranks.append(1 / rank)\n",
        "                break\n",
        "    return sum(reciprocal_ranks) / len(reciprocal_ranks)\n",
        "\n",
        "# Example usage\n",
        "recommended_items = {1: [101, 102, 103], 2: [104, 105, 106]}  # User ID: [Recommended Items]\n",
        "relevant_items = {1: [102, 107], 2: [104, 108]}  # User ID: [Relevant Items]\n",
        "\n",
        "mrr = mean_reciprocal_rank(recommended_items, relevant_items)\n",
        "print(f'Mean Reciprocal Rank: {mrr}')"
      ],
      "metadata": {
        "id": "yM6P9QS1BD3a"
      },
      "execution_count": null,
      "outputs": []
    },
    {
      "cell_type": "code",
      "source": [
        "# Mean Average Precision (MAP) Both CF and CBF\n",
        "\n",
        "from sklearn.metrics import average_precision_score\n",
        "\n",
        "# Assuming `y_true` and `y_pred` are binary relevance vectors\n",
        "map_score = average_precision_score(y_true, y_pred)\n",
        "print(f'Mean Average Precision: {map_score}')"
      ],
      "metadata": {
        "id": "W5QvtRcN-fb3",
        "colab": {
          "base_uri": "https://localhost:8080/",
          "height": 193
        },
        "outputId": "8f84c95e-4833-4fdb-c69d-ece689031380"
      },
      "execution_count": 10,
      "outputs": [
        {
          "output_type": "error",
          "ename": "NameError",
          "evalue": "name 'y_true' is not defined",
          "traceback": [
            "\u001b[0;31m---------------------------------------------------------------------------\u001b[0m",
            "\u001b[0;31mNameError\u001b[0m                                 Traceback (most recent call last)",
            "\u001b[0;32m<ipython-input-10-30f5644c928d>\u001b[0m in \u001b[0;36m<cell line: 0>\u001b[0;34m()\u001b[0m\n\u001b[1;32m      4\u001b[0m \u001b[0;34m\u001b[0m\u001b[0m\n\u001b[1;32m      5\u001b[0m \u001b[0;31m# Assuming `y_true` and `y_pred` are binary relevance vectors\u001b[0m\u001b[0;34m\u001b[0m\u001b[0;34m\u001b[0m\u001b[0m\n\u001b[0;32m----> 6\u001b[0;31m \u001b[0mmap_score\u001b[0m \u001b[0;34m=\u001b[0m \u001b[0maverage_precision_score\u001b[0m\u001b[0;34m(\u001b[0m\u001b[0my_true\u001b[0m\u001b[0;34m,\u001b[0m \u001b[0my_pred\u001b[0m\u001b[0;34m)\u001b[0m\u001b[0;34m\u001b[0m\u001b[0;34m\u001b[0m\u001b[0m\n\u001b[0m\u001b[1;32m      7\u001b[0m \u001b[0mprint\u001b[0m\u001b[0;34m(\u001b[0m\u001b[0;34mf'Mean Average Precision: {map_score}'\u001b[0m\u001b[0;34m)\u001b[0m\u001b[0;34m\u001b[0m\u001b[0;34m\u001b[0m\u001b[0m\n",
            "\u001b[0;31mNameError\u001b[0m: name 'y_true' is not defined"
          ]
        }
      ]
    },
    {
      "cell_type": "code",
      "source": [
        "# Normalized Discounted Cumulative Gain (nDCG) Both CF and CBF.\n",
        "\n",
        "from sklearn.metrics import ndcg_score\n",
        "\n",
        "# Assuming `y_true` is the relevance scores and `y_pred` is the predicted scores\n",
        "ndcg = ndcg_score([y_true], [y_pred])\n",
        "print(f'nDCG: {ndcg}')"
      ],
      "metadata": {
        "id": "DaeBnZ3P_InN"
      },
      "execution_count": null,
      "outputs": []
    },
    {
      "cell_type": "code",
      "source": [
        "#  Cross-Validation Both CF and CBF.\n",
        "\n",
        "from surprise.model_selection import cross_validate\n",
        "\n",
        "# Assuming `data` is your dataset and `svd` is your model\n",
        "results = cross_validate(svd, data, measures=['RMSE', 'MAE'], cv=5, verbose=True)\n",
        "\n",
        "print(f'Average RMSE: {results[\"test_rmse\"].mean()}')\n",
        "print(f'Average MAE: {results[\"test_mae\"].mean()}')"
      ],
      "metadata": {
        "id": "Qo1U7xyN_Ye-"
      },
      "execution_count": null,
      "outputs": []
    },
    {
      "cell_type": "code",
      "source": [
        "# Assuming you have a function `hybrid_recommend` that returns recommendations\n",
        "# and a test set of user-movie interactions\n",
        "\n",
        "def evaluate_hybrid_recommendations(user_ids, movie_titles, relevant_movies, top_n=10):\n",
        "    precisions = []\n",
        "    recalls = []\n",
        "    for user_id, movie_title, relevant in zip(user_ids, movie_titles, relevant_movies):\n",
        "        recommendations = hybrid_recommend(user_id, movie_title, top_n=top_n)\n",
        "        y_true = [1 if movie in relevant else 0 for movie in all_movies]\n",
        "        y_pred = [1 if movie in recommendations else 0 for movie in all_movies]\n",
        "        precisions.append(precision_score(y_true, y_pred))\n",
        "        recalls.append(recall_score(y_true, y_pred))\n",
        "\n",
        "    avg_precision = np.mean(precisions)\n",
        "    avg_recall = np.mean(recalls)\n",
        "    f1 = 2 * (avg_precision * avg_recall) / (avg_precision + avg_recall)\n",
        "\n",
        "    print(f'Average Precision: {avg_precision}')\n",
        "    print(f'Average Recall: {avg_recall}')\n",
        "    print(f'F1-Score: {f1}')\n",
        "\n",
        "# Example usage\n",
        "user_ids = [1, 2, 3]  # Example user IDs\n",
        "movie_titles = ['Spider-Man', 'Inception', 'The Dark Knight']  # Example movie titles\n",
        "relevant_movies = [['Spider-Man 2', 'Spider-Man 3'], ['Inception', 'Interstellar'], ['The Dark Knight Rises']]  # Example relevant movies\n",
        "\n",
        "evaluate_hybrid_recommendations(user_ids, movie_titles, relevant_movies)"
      ],
      "metadata": {
        "id": "M0Z5X7NV_g-m"
      },
      "execution_count": null,
      "outputs": []
    }
  ]
}