{
  "nbformat": 4,
  "nbformat_minor": 0,
  "metadata": {
    "colab": {
      "provenance": [],
      "include_colab_link": true
    },
    "kernelspec": {
      "name": "python3",
      "display_name": "Python 3"
    },
    "language_info": {
      "name": "python"
    }
  },
  "cells": [
    {
      "cell_type": "markdown",
      "metadata": {
        "id": "view-in-github",
        "colab_type": "text"
      },
      "source": [
        "<a href=\"https://colab.research.google.com/github/abiralchy0987/movie_recommendation_system/blob/main/optimized_CF.ipynb\" target=\"_parent\"><img src=\"https://colab.research.google.com/assets/colab-badge.svg\" alt=\"Open In Colab\"/></a>"
      ]
    },
    {
      "cell_type": "code",
      "execution_count": null,
      "metadata": {
        "id": "3OSq-lpCGi8o"
      },
      "outputs": [],
      "source": []
    },
    {
      "cell_type": "code",
      "source": [
        "import pandas as pd\n",
        "import numpy as np\n",
        "import spacy\n",
        "import ast\n",
        "from sklearn.feature_extraction.text import TfidfVectorizer\n",
        "from sklearn.metrics.pairwise import cosine_similarity\n",
        "\n",
        "# Load SpaCy's English model\n",
        "nlp = spacy.load('en_core_web_sm')\n",
        "\n",
        "# Reading the data\n",
        "movies = pd.read_csv('/content/tmdb_5000_movies.csv')\n",
        "credits = pd.read_csv('/content/tmdb_5000_credits.csv')\n",
        "\n",
        "# Merge datasets using movie_id in 'credits' and 'id' in 'movies'\n",
        "movies_merged = movies.merge(credits, left_on='id', right_on='movie_id')\n",
        "\n",
        "# Select relevant columns and rename for clarity\n",
        "movies = movies_merged[['movie_id', 'title_x', 'overview', 'genres', 'keywords', 'cast', 'crew']]\n",
        "movies = movies.rename(columns={'title_x': 'title'})\n",
        "\n",
        "# Drop rows with missing values\n",
        "movies.dropna(inplace=True)\n",
        "\n",
        "# Safely convert JSON-like strings to lists\n",
        "def convert(text):\n",
        "    try:\n",
        "        return [i['name'] for i in ast.literal_eval(text)]\n",
        "    except (ValueError, SyntaxError):\n",
        "        return []  # Return empty list if parsing fails\n",
        "\n",
        "movies['genres'] = movies['genres'].apply(convert)\n",
        "movies['keywords'] = movies['keywords'].apply(convert)\n",
        "\n",
        "# Convert cast to a list of top 3 actors\n",
        "def convert_cast(text):\n",
        "    try:\n",
        "        return [i['name'] for i in ast.literal_eval(text)[:3]]\n",
        "    except (ValueError, SyntaxError):\n",
        "        return []\n",
        "\n",
        "movies['cast'] = movies['cast'].apply(convert_cast)\n",
        "\n",
        "# Fetch director from crew\n",
        "def fetch_director(text):\n",
        "    try:\n",
        "        for i in ast.literal_eval(text):\n",
        "            if i['job'] == 'Director':\n",
        "                return [i['name']]\n",
        "    except (ValueError, SyntaxError):\n",
        "        return []\n",
        "    return []\n",
        "\n",
        "movies['crew'] = movies['crew'].apply(fetch_director)\n",
        "\n",
        "# Process text: replace spaces with underscores\n",
        "def process_text(text):\n",
        "    return [i.replace(\" \", \"_\") for i in text]\n",
        "\n",
        "movies['cast'] = movies['cast'].apply(process_text)\n",
        "movies['crew'] = movies['crew'].apply(process_text)\n",
        "\n",
        "# Convert 'overview' to a list of words\n",
        "movies['overview'] = movies['overview'].apply(lambda x: x.split())\n",
        "\n",
        "# Combine all features into 'tags' as lists\n",
        "movies['tags'] = (\n",
        "    movies['overview'] +\n",
        "    movies['genres'].apply(lambda x: x * 2) +  # Weight genres\n",
        "    movies['keywords'].apply(lambda x: x * 2) +  # Weight keywords\n",
        "    movies['cast'].apply(lambda x: x * 3) +  # Weight cast\n",
        "    movies['crew'].apply(lambda x: x * 3)  # Weight crew\n",
        ")\n",
        "\n",
        "# Convert 'tags' to a single string\n",
        "movies['tags'] = movies['tags'].apply(lambda x: \" \".join(x))\n",
        "\n",
        "# Use SpaCy's nlp.pipe for batch processing\n",
        "def preprocess_text_batch(texts):\n",
        "    processed_texts = []\n",
        "    for doc in nlp.pipe(texts, batch_size=50):\n",
        "        processed_tokens = [\n",
        "            token.lemma_.lower() for token in doc\n",
        "            if not token.is_stop and not token.is_punct\n",
        "        ]\n",
        "        processed_texts.append(\" \".join(processed_tokens))\n",
        "    return processed_texts\n",
        "\n",
        "# Apply batch preprocessing to 'tags'\n",
        "movies['tags'] = preprocess_text_batch(movies['tags'])\n",
        "\n",
        "# TF-IDF Vectorization\n",
        "tfidf = TfidfVectorizer(\n",
        "    max_features=10000,\n",
        "    ngram_range=(1, 3),\n",
        "    min_df=0.001,\n",
        "    max_df=0.8,\n",
        "    stop_words='english'\n",
        ")\n",
        "vectors = tfidf.fit_transform(movies['tags'])\n",
        "\n",
        "# Compute cosine similarity\n",
        "similarity = cosine_similarity(vectors)\n",
        "\n",
        "# Recommendation function\n",
        "def recommend(movie, num_recommendations=5):\n",
        "    index = movies[movies['title'] == movie].index\n",
        "    if len(index) == 0:\n",
        "        return f\"Movie '{movie}' not found in database\"\n",
        "\n",
        "    index = index[0]  # Get the first index safely\n",
        "    sim_scores = list(enumerate(similarity[index]))\n",
        "    sim_scores = sorted(sim_scores, key=lambda x: x[1], reverse=True)\n",
        "\n",
        "    recommendations = [\n",
        "        {'title': movies.iloc[i[0]]['title'], 'similarity': f\"{i[1] * 100:.1f}%\"}\n",
        "        for i in sim_scores[1:num_recommendations + 1]\n",
        "    ]\n",
        "\n",
        "    return pd.DataFrame(recommendations)\n",
        "\n",
        "# Example usage\n",
        "print(recommend('Avatar'))\n"
      ],
      "metadata": {
        "colab": {
          "base_uri": "https://localhost:8080/"
        },
        "id": "1XXnQNqK4iqh",
        "outputId": "81b4ff02-c6e1-4453-dd45-e7e5c62040e4"
      },
      "execution_count": null,
      "outputs": [
        {
          "output_type": "stream",
          "name": "stdout",
          "text": [
            "                     title similarity\n",
            "0                   Aliens      43.2%\n",
            "1                   Alien³      35.1%\n",
            "2  Star Trek Into Darkness      31.0%\n",
            "3                    Alien      30.2%\n",
            "4           Silent Running      29.4%\n"
          ]
        }
      ]
    }
  ]
}